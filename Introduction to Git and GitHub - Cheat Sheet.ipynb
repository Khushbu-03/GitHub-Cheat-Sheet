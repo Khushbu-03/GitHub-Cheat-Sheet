{
 "cells": [
  {
   "cell_type": "markdown",
   "metadata": {},
   "source": [
    "## Git Hub :\n",
    "    * Distributed Version Control\n",
    "    * Different users maintain their own repository\n",
    "    * No Central repository\n",
    "    * Changes are stored as change sets\n",
    "    * Track changes not versions\n",
    "    * Change sets can be exhcnaged between repository \"Merge in change sets\" or \"Apply Patches\"    "
   ]
  },
  {
   "cell_type": "code",
   "execution_count": 2,
   "metadata": {},
   "outputs": [],
   "source": [
    "#Initiliazation of Git Repository\n",
    "git init\n",
    "\n",
    "# List all git files in that folder\n",
    "ls -al\n",
    "\n",
    "#Shows all files which are used by git to stolre files\n",
    "ls -la .git\n",
    "\n",
    "#inside of the configuration files\n",
    "cat .git/config\n",
    "\n",
    "# add all files in the staging tree - here files are not been tracked yet\n",
    "git add .\n",
    "\n",
    "#commit and track changes\n",
    "git commit -m \"Intitial Commit\""
   ]
  },
  {
   "cell_type": "markdown",
   "metadata": {},
   "source": [
    "## Commit Message Best Practices\n",
    "    * A short single line summary (<50 char)\n",
    "    * Optionally followed by a blank line and a more complete description\n",
    "    * Keep each line < 72 char\n",
    "    * Commit messages in present tense not past tense\n",
    "        eg : \"Fix for a bug\" or \"Fixes a bug\"\n",
    "            not \"fixed a bug\"\n",
    "    * bullets points can be used \"*\" or \n",
    "    * Can add tracking numbers such as \"[css.js]\" or \"bugfix\" or \"#47559\"\n",
    "    * Be clear and descriptive (ghi344 - Github issue with number)"
   ]
  },
  {
   "cell_type": "markdown",
   "metadata": {},
   "source": [
    "## LOG"
   ]
  },
  {
   "cell_type": "code",
   "execution_count": null,
   "metadata": {},
   "outputs": [],
   "source": [
    "# log that have been done on project\n",
    "git log \n",
    "# consists of \n",
    " - commmit - have unique id\n",
    " - author - who commited\n",
    " - date\n",
    "    \n",
    "# for help\n",
    "git help log\n",
    "\n",
    "#most recent n commits done o project\n",
    "git log -5\n",
    "\n",
    "#filter on date (yyyy-mm-dd)\n",
    "git log --since=2019-01-02 \n",
    "git log --until=2020-01-01\n",
    "git log --author=\"Khushbu\"\n",
    "git log --until=\"3 days ago\"\n",
    "git log --after=2.weeks --before=3.days\n",
    "git log cefev97..HEAD #between these two commits\n",
    "git log <SHA>..<SHA>\n",
    "\n",
    "git ls-tree HEAD\n",
    "\n",
    "#see changes only specific to particular file\n",
    "git log <filename>\n",
    "\n",
    "#serach logs with specific strings - regular expressions\n",
    "git log --grep=\"Init\"\n",
    "\n",
    "#shows log in single line / also shortens the SHA value\n",
    "git log --oneline\n",
    "\n",
    "#Format commit log\n",
    "git log -p (p means patch)\n",
    "\n",
    "#statistcis of what was changed\n",
    "git log --stat\n",
    "\n",
    "#format - how we want to see\n",
    "git log --format=medium (medium is default)\n",
    "options we can use with format : \n",
    "    - oneline\n",
    "    - short\n",
    "    - full\n",
    "    - fuller\n",
    "    - email\n",
    "    - raw\n",
    "\n",
    "#show all in graph format\n",
    "git log --graph\n",
    "\n",
    "#when we have branches we can use\n",
    "git log --graph --all --oneline --decorate"
   ]
  },
  {
   "cell_type": "markdown",
   "metadata": {},
   "source": [
    "## Git Architecture\n",
    "<img src=\"git archi.png\">\n",
    "\n",
    "image source : https://admin.indepth.dev/content/images/2020/03/image-19.png"
   ]
  },
  {
   "cell_type": "markdown",
   "metadata": {},
   "source": [
    "Git uses SHA-1 hash algorithms to create checksum - helps in data integrity\n",
    "- commit id have 40 char hexadecimal string (0-9, a-f)\n",
    "- label to commit - change sets\n",
    "- min to show commit - 4 char\n",
    "- umambiguous - 8-10 char (depends on size of project)"
   ]
  },
  {
   "cell_type": "markdown",
   "metadata": {},
   "source": [
    "## HEAD"
   ]
  },
  {
   "cell_type": "code",
   "execution_count": null,
   "metadata": {},
   "outputs": [],
   "source": [
    "Head Pointer - pointer to the tip oof current branch in repository\n",
    "- last state of repository, what was last checkout\n",
    "- points to parent of next xommit where writing commits takes place\n",
    "\n",
    "#through command we cna see HEAD\n",
    "cat .git/HEAD \n",
    "#returns - rf. refs/heads/master  (default branch in every repo)\n",
    "\n",
    "#get SHA value\n",
    "cat .git/refs/heads/master\n",
    "\n",
    "or simple using git\n",
    "git show HEAD"
   ]
  },
  {
   "cell_type": "code",
   "execution_count": null,
   "metadata": {},
   "outputs": [],
   "source": [
    "#shows current status of repo\n",
    "git status\n",
    "\n",
    "#any difference made / only changes will be shown not the entire code\n",
    "git diff\n",
    "    '-' : changes that have been removed\n",
    "    '+' : changes that have been added\n",
    "\n",
    "#shows only chnages made in staging area / shows diff between repo and staging \n",
    "#tree not changes between staging tree and working directory        \n",
    "git diff --staged\n",
    "\n",
    "#same as previous one\n",
    "git diff --cached\n",
    "\n",
    "#to remove files\n",
    "git rm <filename>\n",
    "\n",
    "#to move files\n",
    "git mv <moveFrom> <moveTo>\n",
    "\n",
    "#show changes in different colors\n",
    "git diff --color-words\n",
    "\n",
    "#commit directly from working to repo\n",
    "git commit -a\n",
    "git commit -all\n",
    "\n",
    "eg : git commit -aa, \"Edit made\"\n",
    "    \n",
    "#to show what happened in a commit\n",
    "git show <commitId>\n",
    "\n",
    "opens up a paginator - you can scroll using \n",
    "    - 'f' : forward\n",
    "    - 'b' : backward\n",
    "    - 'q' : to quit\n",
    "\n",
    "# show commits in color\n",
    "git show <commitId> --color-words\n",
    "\n",
    "#view difference between commit\n",
    "git diff <commitID>..<commitId>\n",
    "eg: git diff 864fef..284hjfdj\n",
    "or\n",
    "git diff 38rfh..iefh3r87f --color-words"
   ]
  },
  {
   "cell_type": "markdown",
   "metadata": {},
   "source": [
    "## Best practices is to make **ATOMIC** Commits\n",
    " * small commits\n",
    " * only affect a single aspect\n",
    " * easy too restore quickly\n",
    " * Easier to understand, to work with and to find bugs\n",
    " * Improves Collaboration\n"
   ]
  },
  {
   "cell_type": "code",
   "execution_count": null,
   "metadata": {},
   "outputs": [],
   "source": [
    "#This will add only those files to staging area which you have passed not all\n",
    "- Simply add those changes those are related or make sense together using git add ...[file names]\n",
    "#commit those (do not use commit -am as it will commit all the changes made at once)\n",
    "- Than commmit it first using git commit -m \"messages\"\n",
    "#then add other files same as above\n",
    "- git add <filename 2>\n",
    "#then commit it again - you can use -am as only others change are left\n",
    "- git commit -am \"messages..\"\n",
    "\n",
    "-- We will see that these commits are done atomic individually"
   ]
  },
  {
   "cell_type": "code",
   "execution_count": null,
   "metadata": {},
   "outputs": [],
   "source": [
    "#to restore chnage sor discard chhanges\n",
    "git checkout -- <filename>  # here '--' means current branch\n",
    "\n",
    "#Unsatge files - remove files from stgaing tree\n",
    "git reset HEAD <filename>\n",
    "\n",
    "#undo all changes\n",
    "git checkout -- ."
   ]
  },
  {
   "cell_type": "code",
   "execution_count": null,
   "metadata": {},
   "outputs": [],
   "source": [
    "**Amend** : amend option that you use with commit says take whatever was in the old commit, bring it back down to staging, add whatever staging has into it, and then let's recommit that.\n",
    "\n",
    "git commit --amend -m \"Messages...\"\n",
    "\n",
    "#reverting back to old versions\n",
    "git revert <SHA-ID>\n",
    "\n",
    "#remove untracked fies\n",
    "git clean -n : will tell us what would it remove(not the files in staged area)\n",
    "than;\n",
    "git clean -f : force to clean it"
   ]
  },
  {
   "cell_type": "code",
   "execution_count": null,
   "metadata": {},
   "outputs": [],
   "source": [
    "#sometimes we want to ignore files : can be done useing .gitignore\n",
    "git add .gitignore \n",
    "git commit -m \"Add ignore files\"\n",
    "\n",
    "#to stop tracking a file \n",
    "git rm --cached \n",
    "git add .gitignore \n",
    "git status \n",
    "git commit -m \"stop tracking files\"\n",
    "\n",
    "#Git ignore folder which do have any files in it and does not track empty directories\n",
    "#to track empty directory us .gitkeep\n",
    "\n",
    "git ls-tree HEAD"
   ]
  },
  {
   "cell_type": "markdown",
   "metadata": {},
   "source": [
    "## Navigate the Commit Tree"
   ]
  },
  {
   "cell_type": "markdown",
   "metadata": {},
   "source": [
    "Reference Commits : Tree-ish\n",
    "    - A directory containing files and other directories(which Git call \"tree\") or any identifier which\n",
    "    references a tree\n",
    "    - A commit is considered tree-ish because it refers to a tree at the point when a commit has been aplied.\n",
    "    \n",
    "    eg : 1. SHA-1 Hash\n",
    "        2. HEAD pointer reference\n",
    "        3. Branch reference\n",
    "        4. Tag reference\n",
    "        5. Ancestry    "
   ]
  },
  {
   "cell_type": "markdown",
   "metadata": {},
   "source": [
    "Ancestry : most commits are going to have a parent commit, a grandparent commit, and even a \n",
    "    great-grandparent commit. That's when we say ancestry.\n",
    "    \n",
    "**refer parent commit** :\n",
    "- fhfffw8r43^\n",
    "- HEAD^\n",
    "- master^\n",
    "- HEAD~1 or HEAD~\n",
    "- git show HEAD^\n",
    "\n",
    "**refer grandparents** :\n",
    "- fhfffw8r43^^\n",
    "- HEAD^^\n",
    "- master^^\n",
    "- HEAD~2\n",
    "- git show HEAD^^\n",
    "\n",
    "**refer great-grandparents** :\n",
    "- fhfffw8r43^^^\n",
    "- HEAD^^^\n",
    "- master^^^\n",
    "- HEAD~3\n",
    "- git show HEAD~3"
   ]
  },
  {
   "cell_type": "code",
   "execution_count": null,
   "metadata": {},
   "outputs": [],
   "source": [
    "Tree lsitings = Lists the content of a given tree object, like what \"/bin/ls -a\" does in the current\n",
    "working directory\n",
    "- git ls-tree <tree-ish>\n",
    "\n",
    "#show \n",
    "git ls-tree HEAD\n",
    " - tree - refers to directories\n",
    " - blob - refers to files (Binary Large Objects)\n",
    "\n",
    "#format\n",
    "git ls-tree [<options>] <tree-ish> [<path>...]"
   ]
  },
  {
   "cell_type": "markdown",
   "metadata": {},
   "source": [
    "## Branches Overview"
   ]
  },
  {
   "cell_type": "code",
   "execution_count": null,
   "metadata": {},
   "outputs": [],
   "source": [
    "HEAD always points to last commit. So once we create a branch it will still refer to last commit\n",
    "in master branch however whenever we commit in new branch HEAD pointer will move to that commit or \n",
    "else when we switch branchs. \n",
    "\n",
    "#show default branch i.e. master\n",
    "git branch\n",
    "\n",
    "#create a new branch - branch name (no spaces and can contain letters, numbers, underscores)\n",
    "git branch _new_branch\n",
    "\n",
    "#switch commits / now HEAD point to new branch\n",
    "git checkout _new_branch\n",
    "\n",
    "#creates and checkout at once \n",
    "git checkout -b <branch-name>"
   ]
  },
  {
   "cell_type": "code",
   "execution_count": null,
   "metadata": {},
   "outputs": [],
   "source": [
    "Switching with Uncommited Changes\n",
    "- Cannot switch if changes in working directory conflict\n",
    "- Can switch if changes in working directory could be applied without conflict\n",
    "- Can switch if files are not being tracked\n",
    "\n",
    "- Commit the changes to the current branch\n",
    "- Remove the changes, checkout the file again\n",
    "- Stash the changes"
   ]
  },
  {
   "cell_type": "code",
   "execution_count": null,
   "metadata": {},
   "outputs": [],
   "source": [
    "## Compare Branch\n",
    "\n",
    "git diff master.._new_branch\n",
    "git diff <branch-name>..<branch-name2>\n",
    "\n",
    "#commits that have been merged in the tree\n",
    "git branch --merged\n",
    "\n",
    "#to reverse\n",
    "git branch --no-merged\n",
    "\n",
    "#rename branches\n",
    "git branch -m <new branch name> // this rename the current branch on which we are currently\n",
    "\n",
    "#else we can mention old branch name in []\n",
    "git branch -m [<oldbranch name>] <new-name>\n",
    "\n",
    "## delete branch\n",
    "git branch -d <branch-name> // we can't delete the branch in it, we have to switch to another branch\n",
    "// also a safe branch\n",
    "\n",
    "#we can also use force delete\n",
    "git branch -D <branch-name> // this wont give us a warning"
   ]
  },
  {
   "cell_type": "markdown",
   "metadata": {},
   "source": [
    "## Configure CMD/Terminal"
   ]
  },
  {
   "cell_type": "code",
   "execution_count": null,
   "metadata": {},
   "outputs": [],
   "source": [
    "- Add current branch name to command prompt\n",
    "- Similiar to .git-completion.bash\n",
    "- https://github.com/git/git\n",
    "\n",
    "#first check if you have already enabled this using following command\n",
    "__git_ps1 \n",
    ": This will run if already exists or else...\n",
    "    \n",
    "- Got to github.com/git/git -> contrib -> completion and download \n",
    "git-promt.sh where your git is installed and save it as .sh/.bash file\n",
    "\n",
    "- Than run : mv git-prompt.sh .git-prompt.bash\n",
    "- Edit to ~/.bashrc or `/.bash_profile\n",
    " and add following code:\n",
    "        \"\n",
    "        GIT_PROMPT_THEME=Evermeet #theme\n",
    "        if [ -f ~/.git-prompt.bash 0]; then\n",
    "            source ~/.git-prompt.bash\n",
    "            export PS1='\\W$(__git_ps1 \"(%s)\") > '\n",
    "        fi \"\n",
    "- Save your file and reopen the git CMD"
   ]
  },
  {
   "cell_type": "markdown",
   "metadata": {},
   "source": [
    "## Reset Branches"
   ]
  },
  {
   "cell_type": "code",
   "execution_count": null,
   "metadata": {},
   "outputs": [],
   "source": [
    "Reset Branches\n",
    "1. Soft Reset\n",
    "- Moves HEAD pointer\n",
    "- Does not change staging index\n",
    "- Does not change working directory\n",
    "- git reset --soft <tree-ish>\n",
    "\n",
    "When we can use it:\n",
    "    - Return to an old state and leave code changes staged\n",
    "    - Useful for amending one or more commits\n",
    "    - Similar to git commit --amend\n",
    "    - Previous commits will be discarded\n",
    "    - Be careful about amending commits which have been shared\n",
    "\n",
    "2. Mixed Reset\n",
    "- Moves HEAD pointer\n",
    "- Changes staging index to match repository\n",
    "- Does not change working directory\n",
    "- git reset --mixed <tree-ish>\n",
    "- default choice\n",
    "\n",
    "3. Hard Reset\n",
    "- Moves HEAD pointer\n",
    "- Changes staging index to match repository\n",
    "- Changes working directory to match repository\n",
    "- Return to old state and discard all code changes\n",
    "- Useful to permanently undo commits\n",
    "- Previous commits and all changes will be discarded\n",
    "- Be careful about amending commits which have been shared\n",
    "- Can undo merges as well\n",
    "- - git reset --hard <tree-ish>"
   ]
  },
  {
   "cell_type": "markdown",
   "metadata": {},
   "source": [
    "## Merge Branches"
   ]
  },
  {
   "cell_type": "code",
   "execution_count": null,
   "metadata": {},
   "outputs": [],
   "source": [
    "#Merge branches - this are fast forward merges\n",
    "git merge <branch-name>\n",
    "eg: git merge _new_branch\n",
    "\n",
    "Note : Always merge branches with clean working directory\n",
    "    \n",
    "ususlly git itself recognises and perform fast forward merge and true merge\n",
    "\n",
    "#Merge conflicts\n",
    "When we make changes in same code\n",
    "\n",
    "#to abort merge\n",
    "git merge --abort"
   ]
  },
  {
   "cell_type": "code",
   "execution_count": null,
   "metadata": {},
   "outputs": [],
   "source": [
    "Startegies to Reduce Conflicts\n",
    "- Keep lines short\n",
    "- Keep commits small and focused\n",
    "- Beware stray edits to whitespace(space, tabs, line returns)\n",
    "- Merge often\n",
    "- track changes into master"
   ]
  },
  {
   "cell_type": "markdown",
   "metadata": {},
   "source": [
    "## Stash Changes"
   ]
  },
  {
   "cell_type": "code",
   "execution_count": null,
   "metadata": {},
   "outputs": [],
   "source": [
    "Save Changes into Stash\n",
    "- When we want to swicth between branch with out committing the initial branch we can use Stash\n",
    "- By default: does not include untracked files\n",
    "- Changes in Stash are independent of the branch - will be available to alll the branches\n",
    "\n",
    "#to add into stash\n",
    "git stash save \"changed title page\"\n",
    "\n",
    "#to view stash\n",
    "git stash list\n",
    "\n",
    "#stash@{0} : it's a stash ID\n",
    "#stash with pop: this will apply changes as well as delete them from stash \n",
    "#To show what changed\n",
    "git stash show stash@{0}\n",
    "\n",
    "#to actuallly show contents\n",
    "git stash show -p stash@{0}\n",
    "\n",
    "#to retrieve\n",
    "git stash pop  #it will pop first stash - newest and apply to working directly\n",
    "\n",
    "#to retrieve particularly stash\n",
    "git stash pop stash@{0}\n",
    "\n",
    "#another way is to use apply : this will apply changes and keep stash as it is; in case we need to \n",
    "# apply same stash to another branch\n",
    "git stash apply\n",
    "\n",
    "#to delete\n",
    "git stash drop stash@{0}\n",
    "\n",
    "#to clear all items in the stash\n",
    "git stash clear"
   ]
  },
  {
   "cell_type": "markdown",
   "metadata": {},
   "source": [
    "## Set up Remmote Branches"
   ]
  },
  {
   "cell_type": "code",
   "execution_count": null,
   "metadata": {},
   "outputs": [],
   "source": [
    "## Local and Remote Repositories\n",
    "\n",
    "#shows remote repo\n",
    "git remote\n",
    "\n",
    "#to remove\n",
    "git remote rm origin\n",
    "\n",
    "#to add it again\n",
    "git remote add origin <url>\n",
    "\n",
    "#to show remote branch\n",
    "git branch -r\n",
    "\n",
    "#to show all the branches (remote+local)\n",
    "git branch -a"
   ]
  },
  {
   "cell_type": "code",
   "execution_count": null,
   "metadata": {},
   "outputs": [],
   "source": [
    "Track Remote Branches\n",
    "\n",
    ":When we pass '-u' with git push command or else when we do clone a repo, our master branch will start \n",
    "tracking remote branch. \n",
    "\n",
    "#to track a branch\n",
    "git branch -u <upstream/branch-name> <branch-name>\n",
    "\n",
    "#to untrack a branch\n",
    "git branch --unset-upstream [<branch-name>]"
   ]
  },
  {
   "cell_type": "markdown",
   "metadata": {},
   "source": [
    "## Collaborate with a Remote"
   ]
  },
  {
   "cell_type": "code",
   "execution_count": null,
   "metadata": {},
   "outputs": [],
   "source": [
    "#to check remote server what changes have been made : \n",
    "-this does not change anything and does not merge anything\n",
    "- good practise is to firsst fetch before we push and start work\n",
    "- fetch before you go offline\n",
    "- fetch often\n",
    "\n",
    "git fetch [remote branch]\n",
    "\n",
    "#to merge - will bring change in our code\n",
    "git merge\n",
    "\n",
    "#to combine both fetch and merge\n",
    "git pull\n",
    "\n",
    "Note: Remote branch can't be checkout, in order to work upon them we need a create a branch which tracks it\n",
    "\n",
    "#to push to an updated remote branch\n",
    "When we push on a remote branch and it rejects it; this is ideally bcoz it already have some updates and\n",
    "gitis confused what to do with those updates.\n",
    "\n",
    "So in order to push first we need to fetch than merge and than finally we can push our changes.\n",
    "\n",
    "#To Delete remote branch\n",
    "- Useful when a feature branch is complete and merged\n",
    "\n",
    "#two ways to delete a remote branch\n",
    "#old way : \n",
    "git push origin :[<branch-name>]\n",
    "   \n",
    "#second way\n",
    "git push origin --delete [<branch-name>]"
   ]
  },
  {
   "cell_type": "code",
   "execution_count": null,
   "metadata": {},
   "outputs": [],
   "source": [
    "#usual collaboration workflow\n",
    "\n",
    "## My work...\n",
    "# switch to master branch\n",
    "1. git checkout master\n",
    "#to see if there is any update\n",
    "2. git fetch\n",
    "#to get changes in our local branch\n",
    "3. git merge origin/master\n",
    "#create a local branch\n",
    "4. git checkout -b feeb_form\n",
    "#maake change in local branch and add them in staging tree\n",
    "5. git add fee.html\n",
    "#commit changes\n",
    "6. git commit -m \"Add feeb form\"\n",
    "#before we push check updates again\n",
    "7. git fetch\n",
    "#than push\n",
    "8. git push -u origin feeb_form\n",
    "\n",
    "## My team mate..\n",
    "\n",
    "# switch to master branch\n",
    "1. git checkout master\n",
    "#see changes\n",
    "2. git fetch\n",
    "#than merge the changes locally\n",
    "3. git merge origin/master\n",
    "#swicth to new branch made by me (below if we do not pass origin...than it will create a new branch of current master)\n",
    "4. git checkout -b feeb_form origin/feeb_form\n",
    "#see changes\n",
    "5. git log\n",
    "#see commits\n",
    "6. git show <SHA>\n",
    "#now teammate made his changes and added to this branch\n",
    "7. git commit -am \"Add a new button\"\n",
    "#again check new changes\n",
    "8. git fetch\n",
    "#than push changes\n",
    "9. git push\n",
    "\n",
    "\n",
    "#my work\n",
    "\n",
    "#see changes made my team mate\n",
    "1. git fetch\n",
    "#show details of changes as individual commits\n",
    "2. git log -p feeb_form..origin/feeb_form\n",
    "#than merge\n",
    "3. git merge origin/feeb_form\n",
    "#switch branch\n",
    "4. git checkout master\n",
    "#check changes\n",
    "5. git fetch\n",
    "#if any changes then i should merge\n",
    "6. git merge origin/master\n",
    "#merge to local branch once we know al changes are up to date\n",
    "7. git merge feeb_form\n",
    "#new feature is pushed and available on server\n",
    "8. git push"
   ]
  },
  {
   "cell_type": "code",
   "execution_count": null,
   "metadata": {},
   "outputs": [],
   "source": [
    "# Add alias \"st = status\" to ~/.gitconfig\n",
    "\n",
    "git config --global alias.st \"status\"\n",
    "\n",
    "- create alias for commonly used commands\n",
    "- "
   ]
  }
 ],
 "metadata": {
  "kernelspec": {
   "display_name": "Python 3",
   "language": "python",
   "name": "python3"
  },
  "language_info": {
   "codemirror_mode": {
    "name": "ipython",
    "version": 3
   },
   "file_extension": ".py",
   "mimetype": "text/x-python",
   "name": "python",
   "nbconvert_exporter": "python",
   "pygments_lexer": "ipython3",
   "version": "3.7.4"
  }
 },
 "nbformat": 4,
 "nbformat_minor": 2
}
